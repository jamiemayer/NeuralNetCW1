{
 "cells": [
  {
   "cell_type": "markdown",
   "metadata": {},
   "source": [
    "<b>Part A: Using Single Layer Networks for Classification</b>"
   ]
  },
  {
   "cell_type": "markdown",
   "metadata": {},
   "source": [
    "<em>Question 1</em>"
   ]
  },
  {
   "cell_type": "code",
   "execution_count": 325,
   "metadata": {
    "collapsed": false
   },
   "outputs": [],
   "source": [
    "%matplotlib inline\n",
    "import numpy as np\n",
    "import matplotlib.pyplot as plt\n",
    "bias = 1\n",
    "w = [0,0,0]\n",
    "w = np.array(w)\n",
    "inputs = [(0,0,bias),(0,1,bias),(1,0,bias),(1,1,bias)]\n",
    "inputs = np.array(inputs)\n",
    "t = [-1,-1,-1,1]\n",
    "eta = 1"
   ]
  },
  {
   "cell_type": "markdown",
   "metadata": {},
   "source": [
    "The above code, initialises all values such that: $$ W = \\begin{bmatrix}\n",
    "    0 \\\\\n",
    "    0 \\\\\n",
    "    0\n",
    "\\end{bmatrix}$$\n",
    "\n",
    "Where W is the weight matrix which has been augmented such that the weight for the bias has been appended to the end and is intialised to 1. The inputs $X$ have been initialised to: $$\\\\ X = \\begin{bmatrix}\n",
    "    0 & 0 & b \\\\\n",
    "    0 & 1 & b \\\\\n",
    "    1 & 0 & b \\\\\n",
    "    1 & 1 & b\n",
    "\\end{bmatrix}\n",
    "\\\\$$\n",
    "Where $b$ is the bias that has been appended to each input row vector in $X$. There are two classes of target value: $1$ and $-1$. In the first iteration the target vector has been initialised to: $$\\\\ T = \\begin{bmatrix}\n",
    "    -1\\\\\n",
    "    -1\\\\\n",
    "    1\\\\\n",
    "    1\n",
    "\\end{bmatrix}$$\n",
    "Meaning that if input $x^i_1 = 1$ then the target output is a $1$.\n",
    "\n",
    "The learning rate $\\eta$ has been set to $1$. NEED TO JUSTIFY THIS!!! WHY DID I DO THIS???"
   ]
  },
  {
   "cell_type": "code",
   "execution_count": 326,
   "metadata": {
    "collapsed": false
   },
   "outputs": [
    {
     "name": "stdout",
     "output_type": "stream",
     "text": [
      "[0 0 0 0]\n"
     ]
    }
   ],
   "source": [
    "a = np.dot(inputs,w)\n",
    "print(a)"
   ]
  },
  {
   "cell_type": "markdown",
   "metadata": {},
   "source": [
    "The activation variable that will be passed in to the activation function is assigned to the variable $a$. This operation computes the dot product for each input vector $x \\in X$ and will return a vector $A$ in which each element $a_i$ will correspond to dot product $ x_i \\cdot W$."
   ]
  },
  {
   "cell_type": "code",
   "execution_count": 327,
   "metadata": {
    "collapsed": false
   },
   "outputs": [
    {
     "data": {
      "text/plain": [
       "array([1, 1, 1, 1])"
      ]
     },
     "execution_count": 327,
     "metadata": {},
     "output_type": "execute_result"
    }
   ],
   "source": [
    "def heaviside(a):\n",
    "    out = []\n",
    "    for i in range(len(a)):\n",
    "        if a[i] >= 0:\n",
    "            out.append(1)\n",
    "        else:\n",
    "            out.append(-1)\n",
    "    return np.array(out)\n",
    "heaviside(a)"
   ]
  },
  {
   "cell_type": "markdown",
   "metadata": {},
   "source": [
    "The heaviside activation function $g(a)$.Outputs $1$ if the activation is greater than or equal to 0 and $-1$ otherwise. This takes the activation vector $A$ as an input and returns outputs from the perceptron in vector form such that $y_i = g(a_i)$. The reason that I have chosen to implement the perceptron this way is for conciseness. I could have iterated through each input individually but to do so would be tiresome and an inefficient use of my time to write. This way the entire set of inputs is being proccessed in parallel. "
   ]
  },
  {
   "cell_type": "code",
   "execution_count": 328,
   "metadata": {
    "collapsed": false
   },
   "outputs": [],
   "source": [
    "def cost(y, t,inputs):\n",
    "    return -np.dot((t-y),inputs)\n",
    "y = heaviside(a)\n",
    "c = cost(y,t,inputs)"
   ]
  },
  {
   "cell_type": "code",
   "execution_count": 329,
   "metadata": {
    "collapsed": false
   },
   "outputs": [],
   "source": [
    "def plotData():\n",
    "    sGraph = plt.figure(1)\n",
    "    plt.scatter(inputs[:,0],inputs[:,1])\n",
    "    plt.quiver(w[0],w[1], scale = 15,label = 'w')\n",
    "    plt.xlim(-0.2,1.5)\n",
    "    plt.ylim(-0.2,1.5)\n",
    "    plt.grid(b=True, which='major')\n",
    "    return sGraph"
   ]
  },
  {
   "cell_type": "code",
   "execution_count": 330,
   "metadata": {
    "collapsed": false
   },
   "outputs": [
    {
     "data": {
      "text/plain": [
       "array([-2, -2, -6])"
      ]
     },
     "execution_count": 330,
     "metadata": {},
     "output_type": "execute_result"
    }
   ],
   "source": [
    "np.dot((t-y),inputs)"
   ]
  },
  {
   "cell_type": "markdown",
   "metadata": {},
   "source": [
    "The cost function $-(T-Y)\\cdot I$ is based upon the perceptron criterion $E^{perc}(W) = -\\sum (W \\cdot x_I)t_i$ for all misclassified $x_i$. I haved slightly modified this. Rather than only calculating cost for misclassified datapoints, I have passed the entire output vector to the cost function. By subtracting the outputs from the target values, any correctly classifed datapoints will be cancelled out and will not contribute to the overall cost."
   ]
  },
  {
   "cell_type": "code",
   "execution_count": 331,
   "metadata": {
    "collapsed": false,
    "scrolled": true
   },
   "outputs": [
    {
     "name": "stdout",
     "output_type": "stream",
     "text": [
      "TEST TEST TEST TEST\n",
      "[ 2  2 -4]\n"
     ]
    },
    {
     "data": {
      "image/png": "[encoded data removed]",
      "text/plain": [
       "<matplotlib.figure.Figure at 0x7e26668>"
      ]
     },
     "metadata": {},
     "output_type": "display_data"
    },
    {
     "data": {
      "image/png": "[encoded data removed]",
      "text/plain": [
       "<matplotlib.figure.Figure at 0x7e26ba8>"
      ]
     },
     "metadata": {},
     "output_type": "display_data"
    }
   ],
   "source": [
    "costOverTime =[]\n",
    "while len(costOverTime) <=20:\n",
    "    a = np.dot(inputs,w)\n",
    "    y = heaviside(a)\n",
    "    w = w-eta*cost(y,t,inputs)\n",
    "    #print(w)\n",
    "    costOverTime.append(sum(cost(y,t,inputs)))\n",
    "g = plotData()\n",
    "g.show()\n",
    "costFig = plt.figure(2)\n",
    "plt.plot(costOverTime)\n",
    "costFig.show()\n",
    "print w"
   ]
  },
  {
   "cell_type": "code",
   "execution_count": null,
   "metadata": {
    "collapsed": false
   },
   "outputs": [],
   "source": []
  }
 ],
 "metadata": {
  "anaconda-cloud": {},
  "kernelspec": {
   "display_name": "Python [Root]",
   "language": "python",
   "name": "Python [Root]"
  },
  "language_info": {
   "codemirror_mode": {
    "name": "ipython",
    "version": 2
   },
   "file_extension": ".py",
   "mimetype": "text/x-python",
   "name": "python",
   "nbconvert_exporter": "python",
   "pygments_lexer": "ipython2",
   "version": "2.7.12"
  }
 },
 "nbformat": 4,
 "nbformat_minor": 1
}
